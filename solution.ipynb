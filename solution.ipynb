{
 "cells": [
  {
   "cell_type": "markdown",
   "metadata": {
    "id": "o9o82-4WkW9K"
   },
   "source": [
    "# Predicting the 2021-2022 NBA MVP Voting Race"
   ]
  },
  {
   "cell_type": "markdown",
   "metadata": {
    "id": "Z0w0SKjlkW9P"
   },
   "source": [
    "David Basin\n",
    "Mateo Castro\n",
    "Abed Islam\n",
    "***"
   ]
  },
  {
   "cell_type": "markdown",
   "metadata": {
    "id": "qtiktXOakW9Q"
   },
   "source": [
    "We will be attempting to determine who will win the NBA Most Valuable Player award using machine learning methods such as SVM/Linear Regression. Our findings will be based on the advanced analystics of past MVP winners, their teams and the advanced analytics of this years players. The datasets to be used are provided."
   ]
  },
  {
   "cell_type": "code",
   "execution_count": 1,
   "metadata": {
    "id": "LgKyU-l8kW9R"
   },
   "outputs": [],
   "source": [
    "import pandas as pd\n",
    "import numpy as np\n",
    "import matplotlib.pyplot as plt\n",
    "from sklearn import svm, linear_model, metrics\n",
    "%matplotlib inline "
   ]
  },
  {
   "cell_type": "markdown",
   "metadata": {
    "id": "MRuoTBsBkW9V"
   },
   "source": [
    "### Part 1: Acquiring and cleaning the data\n",
    "We first obtained the team records for all years that we were using in our dataset (1977-present). We did this by getting team records from the league’s creation to 2017 from Kaggle, and the other individual years from Basketball Reference’s standings pages. We combined the two sources’ datasets into one data frame. We then created a data frame that contained the MVP voting data, and the per-game and advanced stats for each player in our selected years (all three of which came from BRef’s yearly data for each category). After a discussion about what features would be best, we decided to settle on 15 specific features to use in our model. Also featured in the data frame are player name, team name, and year of MVP vote.\n"
   ]
  },
  {
   "cell_type": "code",
   "execution_count": 2,
   "metadata": {
    "id": "_jUXwfs_kW9W",
    "scrolled": false
   },
   "outputs": [],
   "source": [
    "team_records = pd.read_csv(\"Standings/Team_Records.csv\") #Kaggle dataset w/team records before 2017\n",
    "#Records for 17-18 season were incomplete, so we eliminated that from data set:\n",
    "team_records = team_records.loc[team_records[\"Season\"] != \"2017-18\"]\n",
    "#Adding stats from standings csv's from bref (2017-18 to present)\n",
    "for i in range(17,22):\n",
    "    years = str(i)+\"-\"+str(i+1)\n",
    "    east_standings = pd.read_csv(\"Standings/\"+years+\"_East.csv\")\n",
    "    west_standings = pd.read_csv(\"Standings/\"+years+\"_West.csv\")\n",
    "    team_records = pd.concat([team_records,east_standings,west_standings])\n",
    "team_records[\"Season\"] = team_records[\"Season\"].str.slice(2) #Don't use the first two digits in year (i.e. 17 vs 2017)\n",
    "team_records[\"Team\"] = team_records[\"Team\"].str.replace('*','',regex=False) #Take out extra *'s'\n",
    "team_records.set_index([\"Season\",\"Team\"],inplace=True)\n",
    "#Dictionary of abbreviations to team names\n",
    "team_dict = {\"ATL\":\"Atlanta Hawks\", \"BRK\":\"Brooklyn Nets\",\"BOS\":\"Boston Celtics\",\"CHO\":\"Charlotte Hornets\",\n",
    "    \"CHI\":\"Chicago Bulls\",\"CLE\":\"Cleveland Cavaliers\",\"DAL\":\"Dallas Mavericks\",\"DEN\":\"Denver Nuggets\",\n",
    "    \"DET\":\"Detroit Pistons\",\"GSW\":\"Golden State Warriors\",\"HOU\":\"Houston Rockets\",\"IND\":\"Indiana Pacers\",\n",
    "    \"LAC\":\"Los Angeles Clippers\",\"LAL\":\"Los Angeles Lakers\",\"MEM\":\"Memphis Grizzlies\",\"MIA\":\"Miami Heat\",\n",
    "    \"MIL\":\"Milwaukee Bucks\",\"MIN\":\"Minnesota Timberwolves\",\"NOP\":\"New Orleans Pelicans\",\"NYK\":\"New York Knicks\",\n",
    "    \"OKC\":\"Oklahoma City Thunder\",\"ORL\":\"Orlando Magic\",\"PHI\":\"Philadelphia 76ers\",\"PHO\":\"Phoenix Suns\",\n",
    "    \"POR\":\"Portland Trail Blazers\",\"SAC\":\"Sacramento Kings\",\"SAS\":\"San Antonio Spurs\",\"TOR\":\"Toronto Raptors\",\n",
    "    \"UTA\":\"Utah Jazz\",\"WAS\":\"Washington Wizards\",\"NOJ\":\"New Orleans Jazz\",\"SEA\":\"Seattle SuperSonics\",\n",
    "    \"WSB\":\"Washington Bullets\",\"SDC\":\"San Diego Clippers\",\"KCK\":\"Kansas City Kings\",\"NJN\":\"New Jersey Nets\",\n",
    "    \"CHH\":\"Charlotte Hornets\",\"NOH\":\"New Orleans Hornets\",\"CHA\":\"Charlotte Bobcats\"}\n",
    "    \n",
    "total_df = pd.DataFrame()\n",
    "for i in range(77,121):\n",
    "    years = str(i)[-2:]+\"-\"+str(i+1)[-2:] #i.e. 77-78\n",
    "    #Reading voting, advanced, and pergame data from 1977-78 to 2020-21 season\n",
    "    voting = pd.read_csv(\"Voting/\"+years+\"_Voting.csv\", encoding = \"ISO-8859-1\", engine=\"python\")\n",
    "    advanced = pd.read_csv(\"advanced_stats/\"+years+\"_advanced.csv\", encoding = \"ISO-8859-1\", engine=\"python\")\n",
    "    pergame = pd.read_csv(\"PerGame/PerGame_\"+years+\".csv\", encoding = \"ISO-8859-1\", engine=\"python\")\n",
    "    #per game: FG%, TRB, AST, STL, BLK, TOV, PTS\n",
    "    #advanced: PER, TS%, USG%, WS, OBPM, DBPM, VORP\n",
    "    #Voting: Tm, Share\n",
    "    voting = voting.loc[:,[\"Player\",\"Tm\",\"Share\"]]\n",
    "    #For EDA:\n",
    "    voting[\"Winner\"] = 0\n",
    "    voting.at[0,'Winner'] = 1\n",
    "    advanced = advanced.loc[:,[\"Player\",\"PER\",\"TS%\",\"USG%\",\"WS\",\"OBPM\",\"DBPM\",\"VORP\"]]\n",
    "    advanced[\"Player\"] = advanced[\"Player\"].str.replace('*','',regex=False)\n",
    "    pergame = pergame.loc[:,[\"Player\",\"FG%\",\"TRB\",\"AST\",\"STL\",\"BLK\",\"TOV\",\"PTS\"]]\n",
    "    pergame[\"Player\"] = pergame[\"Player\"].str.replace('*','',regex=False)\n",
    "    final_df = pd.merge(voting, advanced, how=\"left\", on=\"Player\")\n",
    "    final_df = pd.merge(final_df, pergame, how=\"left\", on=\"Player\")\n",
    "    final_df[\"Year\"] = years\n",
    "    final_df[\"W/L%\"] = 0\n",
    "    for i, row in final_df.iterrows():\n",
    "        if row[\"Tm\"] == \"TOT\": #If player was on multiple teams in season, use ~playoff median W/L% of 62.5%\n",
    "            final_df.loc[i,\"W/L%\"] = .625\n",
    "        else: #Otherwise, search standings df using team dictionary for W/L%\n",
    "            team = team_dict[row[\"Tm\"]]\n",
    "            final_df.loc[i,\"W/L%\"] = team_records.loc[(row[\"Year\"],team)].at[\"W/L%\"]\n",
    "    share_sum = final_df[\"Share\"].sum()\n",
    "    final_df[\"Share\"] = final_df[\"Share\"]/final_df[\"Share\"].sum() #Normalize share values to add up to 1 in a year\n",
    "    total_df = pd.concat([total_df,final_df])\n",
    "#Do the same for 2021-22, just without voting data\n",
    "advanced_22 = pd.read_csv(\"advanced_stats/21-22_advanced.csv\", encoding = \"ISO-8859-1\", engine=\"python\")\n",
    "pergame_22 = pd.read_csv(\"PerGame/PerGame_21-22.csv\", encoding = \"ISO-8859-1\", engine=\"python\")\n",
    "advanced_22 = advanced_22.loc[:,[\"Player\",\"Tm\",\"PER\",\"G\",\"TS%\",\"USG%\",\"WS\",\"OBPM\",\"DBPM\",\"VORP\"]]\n",
    "advanced_22[\"Player\"] = advanced_22[\"Player\"].str.replace('*','',regex=False)\n",
    "pergame_22 = pergame_22.loc[:,[\"Player\",\"FG%\",\"TRB\",\"AST\",\"STL\",\"BLK\",\"TOV\",\"PTS\"]]\n",
    "pergame_22[\"Player\"] = pergame_22[\"Player\"].str.replace('*','',regex=False)\n",
    "final_df_22 = pd.merge(advanced_22, pergame_22, how=\"left\", on=\"Player\")\n",
    "final_df_22 = final_df_22.loc[final_df_22[\"G\"]>40]\n",
    "final_df_22.drop(\"G\",axis=1,inplace=True)\n",
    "for i, row in final_df_22.iterrows():\n",
    "        if row[\"Tm\"] == \"TOT\": \n",
    "            final_df_22.loc[i,\"W/L%\"] = .625\n",
    "        else:\n",
    "            team = team_dict[row[\"Tm\"]]\n",
    "            final_df_22.loc[i,\"W/L%\"] = team_records.loc[(\"21-22\",team)].at[\"W/L%\"]"
   ]
  },
  {
   "cell_type": "markdown",
   "metadata": {},
   "source": [
    "We combined the data frames by using only the players that garnered MVP votes and featured their specific per-game, advanced, and win-loss data (taken from the standings data frame using the player’s team name). Finally, we made one data frame for the year 2021-22, which doesn’t yet include voting data but features the desired per-game and advanced stats."
   ]
  },
  {
   "cell_type": "markdown",
   "metadata": {
    "id": "agq-Uw6nkW9Q"
   },
   "source": [
    "### Part 2: EDA \n",
    "In this part, we will be performing Exploratory Data Analysis on the dataset to provide some inital insights to the data. First we need some summary statistics. "
   ]
  },
  {
   "cell_type": "markdown",
   "metadata": {},
   "source": [
    "#### Summary Statistics"
   ]
  },
  {
   "cell_type": "code",
   "execution_count": 3,
   "metadata": {},
   "outputs": [
    {
     "data": {
      "text/html": [
       "<div>\n",
       "<style scoped>\n",
       "    .dataframe tbody tr th:only-of-type {\n",
       "        vertical-align: middle;\n",
       "    }\n",
       "\n",
       "    .dataframe tbody tr th {\n",
       "        vertical-align: top;\n",
       "    }\n",
       "\n",
       "    .dataframe thead th {\n",
       "        text-align: right;\n",
       "    }\n",
       "</style>\n",
       "<table border=\"1\" class=\"dataframe\">\n",
       "  <thead>\n",
       "    <tr style=\"text-align: right;\">\n",
       "      <th></th>\n",
       "      <th>Share</th>\n",
       "      <th>Winner</th>\n",
       "      <th>PER</th>\n",
       "      <th>TS%</th>\n",
       "      <th>USG%</th>\n",
       "      <th>WS</th>\n",
       "      <th>OBPM</th>\n",
       "      <th>DBPM</th>\n",
       "      <th>VORP</th>\n",
       "      <th>FG%</th>\n",
       "      <th>TRB</th>\n",
       "      <th>AST</th>\n",
       "      <th>STL</th>\n",
       "      <th>BLK</th>\n",
       "      <th>TOV</th>\n",
       "      <th>PTS</th>\n",
       "      <th>W/L%</th>\n",
       "    </tr>\n",
       "  </thead>\n",
       "  <tbody>\n",
       "    <tr>\n",
       "      <th>count</th>\n",
       "      <td>712.000000</td>\n",
       "      <td>712.000000</td>\n",
       "      <td>712.000000</td>\n",
       "      <td>712.000000</td>\n",
       "      <td>712.000000</td>\n",
       "      <td>712.000000</td>\n",
       "      <td>712.000000</td>\n",
       "      <td>712.000000</td>\n",
       "      <td>712.000000</td>\n",
       "      <td>712.000000</td>\n",
       "      <td>712.000000</td>\n",
       "      <td>712.000000</td>\n",
       "      <td>712.000000</td>\n",
       "      <td>712.000000</td>\n",
       "      <td>712.000000</td>\n",
       "      <td>712.000000</td>\n",
       "      <td>712.00000</td>\n",
       "    </tr>\n",
       "    <tr>\n",
       "      <th>mean</th>\n",
       "      <td>0.061798</td>\n",
       "      <td>0.061798</td>\n",
       "      <td>22.518399</td>\n",
       "      <td>0.569487</td>\n",
       "      <td>26.552388</td>\n",
       "      <td>10.572472</td>\n",
       "      <td>4.045365</td>\n",
       "      <td>0.820084</td>\n",
       "      <td>4.703792</td>\n",
       "      <td>0.495080</td>\n",
       "      <td>7.531320</td>\n",
       "      <td>4.992978</td>\n",
       "      <td>1.414747</td>\n",
       "      <td>0.990449</td>\n",
       "      <td>2.895365</td>\n",
       "      <td>22.065871</td>\n",
       "      <td>0.63090</td>\n",
       "    </tr>\n",
       "    <tr>\n",
       "      <th>std</th>\n",
       "      <td>0.103275</td>\n",
       "      <td>0.240957</td>\n",
       "      <td>3.781376</td>\n",
       "      <td>0.039809</td>\n",
       "      <td>4.922750</td>\n",
       "      <td>3.347317</td>\n",
       "      <td>2.180080</td>\n",
       "      <td>1.346550</td>\n",
       "      <td>2.085992</td>\n",
       "      <td>0.045546</td>\n",
       "      <td>3.334272</td>\n",
       "      <td>2.803922</td>\n",
       "      <td>0.572574</td>\n",
       "      <td>0.925050</td>\n",
       "      <td>0.690212</td>\n",
       "      <td>5.234622</td>\n",
       "      <td>0.10463</td>\n",
       "    </tr>\n",
       "    <tr>\n",
       "      <th>min</th>\n",
       "      <td>0.000383</td>\n",
       "      <td>0.000000</td>\n",
       "      <td>10.100000</td>\n",
       "      <td>0.441000</td>\n",
       "      <td>7.100000</td>\n",
       "      <td>2.200000</td>\n",
       "      <td>-3.100000</td>\n",
       "      <td>-2.400000</td>\n",
       "      <td>0.000000</td>\n",
       "      <td>0.384000</td>\n",
       "      <td>1.900000</td>\n",
       "      <td>0.800000</td>\n",
       "      <td>0.200000</td>\n",
       "      <td>0.000000</td>\n",
       "      <td>0.900000</td>\n",
       "      <td>4.700000</td>\n",
       "      <td>0.22000</td>\n",
       "    </tr>\n",
       "    <tr>\n",
       "      <th>25%</th>\n",
       "      <td>0.001537</td>\n",
       "      <td>0.000000</td>\n",
       "      <td>19.900000</td>\n",
       "      <td>0.543000</td>\n",
       "      <td>23.675000</td>\n",
       "      <td>8.400000</td>\n",
       "      <td>2.500000</td>\n",
       "      <td>-0.100000</td>\n",
       "      <td>3.200000</td>\n",
       "      <td>0.463000</td>\n",
       "      <td>4.800000</td>\n",
       "      <td>2.800000</td>\n",
       "      <td>1.000000</td>\n",
       "      <td>0.300000</td>\n",
       "      <td>2.400000</td>\n",
       "      <td>18.800000</td>\n",
       "      <td>0.57300</td>\n",
       "    </tr>\n",
       "    <tr>\n",
       "      <th>50%</th>\n",
       "      <td>0.008919</td>\n",
       "      <td>0.000000</td>\n",
       "      <td>22.600000</td>\n",
       "      <td>0.568000</td>\n",
       "      <td>26.700000</td>\n",
       "      <td>10.450000</td>\n",
       "      <td>4.100000</td>\n",
       "      <td>0.750000</td>\n",
       "      <td>4.500000</td>\n",
       "      <td>0.493000</td>\n",
       "      <td>6.900000</td>\n",
       "      <td>4.400000</td>\n",
       "      <td>1.400000</td>\n",
       "      <td>0.700000</td>\n",
       "      <td>2.900000</td>\n",
       "      <td>22.150000</td>\n",
       "      <td>0.64600</td>\n",
       "    </tr>\n",
       "    <tr>\n",
       "      <th>75%</th>\n",
       "      <td>0.072930</td>\n",
       "      <td>0.000000</td>\n",
       "      <td>24.900000</td>\n",
       "      <td>0.597250</td>\n",
       "      <td>29.925000</td>\n",
       "      <td>12.725000</td>\n",
       "      <td>5.600000</td>\n",
       "      <td>1.800000</td>\n",
       "      <td>6.000000</td>\n",
       "      <td>0.523000</td>\n",
       "      <td>10.400000</td>\n",
       "      <td>6.700000</td>\n",
       "      <td>1.800000</td>\n",
       "      <td>1.400000</td>\n",
       "      <td>3.300000</td>\n",
       "      <td>25.800000</td>\n",
       "      <td>0.69550</td>\n",
       "    </tr>\n",
       "    <tr>\n",
       "      <th>max</th>\n",
       "      <td>0.664336</td>\n",
       "      <td>1.000000</td>\n",
       "      <td>31.900000</td>\n",
       "      <td>0.699000</td>\n",
       "      <td>41.700000</td>\n",
       "      <td>21.200000</td>\n",
       "      <td>10.300000</td>\n",
       "      <td>4.600000</td>\n",
       "      <td>12.500000</td>\n",
       "      <td>0.675000</td>\n",
       "      <td>18.700000</td>\n",
       "      <td>14.500000</td>\n",
       "      <td>3.700000</td>\n",
       "      <td>5.600000</td>\n",
       "      <td>5.700000</td>\n",
       "      <td>37.100000</td>\n",
       "      <td>0.89000</td>\n",
       "    </tr>\n",
       "  </tbody>\n",
       "</table>\n",
       "</div>"
      ],
      "text/plain": [
       "            Share      Winner         PER         TS%        USG%          WS  \\\n",
       "count  712.000000  712.000000  712.000000  712.000000  712.000000  712.000000   \n",
       "mean     0.061798    0.061798   22.518399    0.569487   26.552388   10.572472   \n",
       "std      0.103275    0.240957    3.781376    0.039809    4.922750    3.347317   \n",
       "min      0.000383    0.000000   10.100000    0.441000    7.100000    2.200000   \n",
       "25%      0.001537    0.000000   19.900000    0.543000   23.675000    8.400000   \n",
       "50%      0.008919    0.000000   22.600000    0.568000   26.700000   10.450000   \n",
       "75%      0.072930    0.000000   24.900000    0.597250   29.925000   12.725000   \n",
       "max      0.664336    1.000000   31.900000    0.699000   41.700000   21.200000   \n",
       "\n",
       "             OBPM        DBPM        VORP         FG%         TRB         AST  \\\n",
       "count  712.000000  712.000000  712.000000  712.000000  712.000000  712.000000   \n",
       "mean     4.045365    0.820084    4.703792    0.495080    7.531320    4.992978   \n",
       "std      2.180080    1.346550    2.085992    0.045546    3.334272    2.803922   \n",
       "min     -3.100000   -2.400000    0.000000    0.384000    1.900000    0.800000   \n",
       "25%      2.500000   -0.100000    3.200000    0.463000    4.800000    2.800000   \n",
       "50%      4.100000    0.750000    4.500000    0.493000    6.900000    4.400000   \n",
       "75%      5.600000    1.800000    6.000000    0.523000   10.400000    6.700000   \n",
       "max     10.300000    4.600000   12.500000    0.675000   18.700000   14.500000   \n",
       "\n",
       "              STL         BLK         TOV         PTS       W/L%  \n",
       "count  712.000000  712.000000  712.000000  712.000000  712.00000  \n",
       "mean     1.414747    0.990449    2.895365   22.065871    0.63090  \n",
       "std      0.572574    0.925050    0.690212    5.234622    0.10463  \n",
       "min      0.200000    0.000000    0.900000    4.700000    0.22000  \n",
       "25%      1.000000    0.300000    2.400000   18.800000    0.57300  \n",
       "50%      1.400000    0.700000    2.900000   22.150000    0.64600  \n",
       "75%      1.800000    1.400000    3.300000   25.800000    0.69550  \n",
       "max      3.700000    5.600000    5.700000   37.100000    0.89000  "
      ]
     },
     "execution_count": 3,
     "metadata": {},
     "output_type": "execute_result"
    }
   ],
   "source": [
    "total_df.describe()"
   ]
  },
  {
   "cell_type": "markdown",
   "metadata": {},
   "source": [
    "As a result of data processing and cleaning, we got our total_df data frame. The figure above is the summary statistics. This gives an idea of the average MVP candidate and the spread amongst all MVP candidates.  This data frame holds important information on all former MVP candidates. For example, it has very simple per-game stats such as points, steals, assists, rebounds, blocks, and turnovers. However, there are also key advanced analytics as well. PER is used to measure how efficient a player is on the floor. OBPM and DBPM are offensive and defensive box plus-minus. This determines how good a player was offensively and defensively on the court. TS% accounts for all shooting from the 2-point, 3points, and free throws. This effectively explains how efficiently a player scores. VORP(value over replacement player) describes how much better or worse a player is compared to his substitute. USG% is how much a player is used. Win/Loss% explains how much a player contributes to their teams' success. The features give a detailed analysis of how good an NBA player is and it will be key in \n",
    "predicting the MVP race. \n"
   ]
  },
  {
   "cell_type": "markdown",
   "metadata": {},
   "source": [
    "#### Distribution Of MVP Shares"
   ]
  },
  {
   "cell_type": "code",
   "execution_count": 4,
   "metadata": {},
   "outputs": [
    {
     "data": {
      "image/png": "[encoded data removed]",
      "text/plain": [
       "<Figure size 432x288 with 1 Axes>"
      ]
     },
     "metadata": {
      "needs_background": "light"
     },
     "output_type": "display_data"
    }
   ],
   "source": [
    "plt.title(\"Distribution of MVP\")\n",
    "plt.xlabel(\"Share Distribution\")\n",
    "plt.ylabel(\"Number of MVP Candidates\")\n",
    "total_df[\"Share\"].hist(bins=26)\n",
    "plt.show()"
   ]
  },
  {
   "cell_type": "markdown",
   "metadata": {},
   "source": [
    "This figure shows how much the MVP shares are spread amongst all candidates in history. What we can see is that the award is very tight and competitive so it's right-skewed. However, there are 2 points at the very end of the graph. This outlier is Lebron James' 2013 award when he got almost every single 1st place vote. The other outlier is Stephen Curry's 2016 unanimous MVP season where he got all first-place votes. "
   ]
  },
  {
   "cell_type": "markdown",
   "metadata": {},
   "source": [
    "#### MVP Shares vs Pts per Game\n",
    "*Purple is loser, Yellow is winner* "
   ]
  },
  {
   "cell_type": "code",
   "execution_count": 5,
   "metadata": {},
   "outputs": [
    {
     "data": {
      "image/png": "[encoded data removed]",
      "text/plain": [
       "<Figure size 432x288 with 1 Axes>"
      ]
     },
     "metadata": {
      "needs_background": "light"
     },
     "output_type": "display_data"
    }
   ],
   "source": [
    "#Plot of MVP shares vs PPG, highlighting MVP winners\n",
    "x = total_df[\"Share\"]\n",
    "y = total_df[\"PTS\"]\n",
    "plt.title(\"MVP Shares vs Pts per Game\")\n",
    "plt.xlabel(\"MVP Shares\")\n",
    "plt.ylabel(\"Pts per Game\")\n",
    "plt.scatter(x,y, c=total_df[\"Winner\"])\n",
    "plt.show()"
   ]
  },
  {
   "cell_type": "markdown",
   "metadata": {},
   "source": [
    "Some things to explore are obvious. Are the players that score the most the MVP. According to the graph above, many of the players that won did not score a lot of points. Some of them did have more point game averages than the average MVP candidate. But scoring is simply not enough to dictate the MVP."
   ]
  },
  {
   "cell_type": "markdown",
   "metadata": {},
   "source": [
    "#### MVP Shares vs PER\n",
    "*Purple is loser, Yellow is winner* "
   ]
  },
  {
   "cell_type": "code",
   "execution_count": 6,
   "metadata": {
    "scrolled": true
   },
   "outputs": [
    {
     "data": {
      "image/png": "[encoded data removed]",
      "text/plain": [
       "<Figure size 432x288 with 1 Axes>"
      ]
     },
     "metadata": {
      "needs_background": "light"
     },
     "output_type": "display_data"
    }
   ],
   "source": [
    "#Plot of MVP shares vs PER, highlighting MVP winners\n",
    "x = total_df[\"Share\"]\n",
    "y = total_df[\"PER\"]\n",
    "plt.title(\"MVP Shares vs PER\")\n",
    "plt.xlabel(\"MVP Shares\")\n",
    "plt.ylabel(\"PER\")\n",
    "plt.scatter(x,y, c=total_df[\"Winner\"])\n",
    "plt.axhline(y=15, color='r', linestyle='-')\n",
    "plt.show()"
   ]
  },
  {
   "cell_type": "markdown",
   "metadata": {},
   "source": [
    "Another thing to consider is how efficiency relates to MVP shares. Of course, all MVPs have a higher PER than the average player. The average player is 15 and all candidates have a much higher rating. But even the players that could be the most efficient did not necessarily win MVP. So we simply cannot claim that the MVP is the most efficient player. "
   ]
  },
  {
   "cell_type": "markdown",
   "metadata": {},
   "source": [
    "#### MVP Shares vs Win/Loss\n",
    "*Purple is loser, Yellow is winner* "
   ]
  },
  {
   "cell_type": "code",
   "execution_count": 7,
   "metadata": {},
   "outputs": [
    {
     "data": {
      "image/png": "[encoded data removed]",
      "text/plain": [
       "<Figure size 432x288 with 1 Axes>"
      ]
     },
     "metadata": {
      "needs_background": "light"
     },
     "output_type": "display_data"
    }
   ],
   "source": [
    "#Plot of MVP shares vs W/L%, highlighting MVP winners\n",
    "x = total_df[\"Share\"]\n",
    "y = total_df[\"W/L%\"]\n",
    "plt.title(\"MVP Shares vs Win/Loss\")\n",
    "plt.xlabel(\"MVP Shares\")\n",
    "plt.ylabel(\"Win/Loss %\")\n",
    "plt.scatter(x,y, c=total_df[\"Winner\"])\n",
    "plt.show()"
   ]
  },
  {
   "cell_type": "markdown",
   "metadata": {},
   "source": [
    "Finally, a feature to look at is, does the winningest player get the most MVP shares? According to the figure above, this also does not hold the case. Some MVP candidates did not have the most wins but they were still considered. A few even did not win much but still were able to win the award. \n"
   ]
  },
  {
   "cell_type": "markdown",
   "metadata": {
    "id": "hLkqUJzKmq3p"
   },
   "source": [
    "### Part 3: Creating and training the model"
   ]
  },
  {
   "cell_type": "markdown",
   "metadata": {},
   "source": [
    "#### Loading the Data\n",
    "To obtain the dataset we will use to train and test the model we first need to remove some classifying data that is not as important to the results. In particular, we will drop the player name, team name, year, and mvp winner columns, as they do not include the actual stats we want to train/test the model with. "
   ]
  },
  {
   "cell_type": "code",
   "execution_count": 8,
   "metadata": {},
   "outputs": [],
   "source": [
    "from sklearn import svm, linear_model, metrics\n",
    "from sklearn.linear_model import LinearRegression\n",
    "from sklearn.model_selection import train_test_split\n",
    "from sklearn.metrics import mean_squared_error\n",
    "import matplotlib.pyplot as plt\n",
    "%matplotlib inline\n",
    "\n",
    "model_df = total_df.drop([\"Player\",\"Tm\",\"Year\",\"Winner\"],axis=1) #Drop categorical data\n",
    "\n",
    "x_train, x_test, y_train, y_test = train_test_split(model_df.drop(\"Share\",axis=1), \n",
    "                                        model_df[\"Share\"], test_size = 0.3, random_state=42)"
   ]
  },
  {
   "cell_type": "markdown",
   "metadata": {},
   "source": [
    "\n",
    "We then use train_test_split to obtain a 70-30 train/test split, i.e. 70% of the dataset will be used to train the model and 30% will be used to test the model. We have the features (x) of the data to be all remaining columns except share, which is the label (y - variable to be predicted).\n",
    "\n"
   ]
  },
  {
   "cell_type": "markdown",
   "metadata": {},
   "source": [
    "#### Linear Regression Model "
   ]
  },
  {
   "cell_type": "code",
   "execution_count": 9,
   "metadata": {
    "id": "vPtYhl1bm_tm"
   },
   "outputs": [],
   "source": [
    "#Linear Regression\n",
    "lr = LinearRegression(fit_intercept=False)\n",
    "lr.fit(x_train,y_train)\n",
    "y_pred_linreg = lr.predict(x_test)"
   ]
  },
  {
   "cell_type": "markdown",
   "metadata": {},
   "source": [
    "First we create the Linear Regression model using the fit_intercept parameter set to false so we have the y-intercept at 0. Training is done on the x_train and y_train datasets obtained from train_test_split, and prediction is done on the x_test dataset."
   ]
  },
  {
   "cell_type": "markdown",
   "metadata": {},
   "source": [
    "#### Support Vector Regression Model "
   ]
  },
  {
   "cell_type": "code",
   "execution_count": 10,
   "metadata": {},
   "outputs": [
    {
     "name": "stdout",
     "output_type": "stream",
     "text": [
      "Best c is: 1.000000e+30\n"
     ]
    }
   ],
   "source": [
    "#SVM\n",
    "curr_score = -1\n",
    "best_c = -1\n",
    "cs = [10**i for i in range(31)]\n",
    "for c in cs: #Finding effective C score (prediction is 10^30 will be best)\n",
    "    svr = svm.SVR(C=c)\n",
    "    svr.fit(x_train,y_train)\n",
    "    y_pred_svr = svr.predict(x_test)\n",
    "    score = svr.score(x_train,y_train)\n",
    "    if curr_score < score:\n",
    "        best_c = c\n",
    "print(\"Best c is: \" + \"{:e}\".format(c))\n",
    "#Predict using best C-score\n",
    "svr = svm.SVR(C=best_c,kernel=\"rbf\")\n",
    "svr.fit(x_train,y_train)\n",
    "y_pred_svr = svr.predict(x_test)\n"
   ]
  },
  {
   "cell_type": "markdown",
   "metadata": {},
   "source": [
    "Next, we will create the SVR model. We want to find the best c parameter to use with this model, so we will create a for loop that trains and tests a new model each time with a different c ranging from 10^0 to 10^30, in powers of 10. The training and testing datasets are the same as those used for the Linear Regression model. Then when the optimal c is found, the SVR model will be built using this c and the kernel of RBF. Training and predictions will be done the same as was for the Linear Regression model, using x_train, y_train and x_test.\n",
    "\n",
    "The optimal c parameter was found to be 10^30 (1e30)\n"
   ]
  },
  {
   "cell_type": "markdown",
   "metadata": {
    "id": "VCePoo6bnw2B"
   },
   "source": [
    "### Part 4: Validating and testing the model\n",
    "\n",
    "In order to validate and test our models, we will look at the different R-Squared and Mean Squared Error (MSE) scores for each model. The R-Squared scores can be determined using the .score() methods of each model, and the MSE scores can be determined using the mean_squared_error() function, which uses the y_test dataset and prediction dataset obtained for models. "
   ]
  },
  {
   "cell_type": "code",
   "execution_count": 11,
   "metadata": {
    "id": "N2xhIUoroBqC"
   },
   "outputs": [
    {
     "name": "stdout",
     "output_type": "stream",
     "text": [
      "Linear Regression R-squared: 0.5597029962649636\n",
      "Linear Regression MSE: 0.005752819679902886\n",
      "SVR R-squared: 0.6142067700082494\n",
      "SVR MSE: 0.009831518863631228\n"
     ]
    }
   ],
   "source": [
    "# Comparing linreg and SVM model R^2 and MSE values\n",
    "score_linreg = lr.score(x_train,y_train)\n",
    "print(\"Linear Regression R-squared:\", score_linreg)\n",
    "print(\"Linear Regression MSE:\", mean_squared_error(y_test, y_pred_linreg))\n",
    "score_svr = svr.score(x_train,y_train)\n",
    "print(\"SVR R-squared:\", score)\n",
    "print(\"SVR MSE:\", mean_squared_error(y_test, y_pred_svr))"
   ]
  },
  {
   "cell_type": "markdown",
   "metadata": {},
   "source": [
    "The R-Squared score for the SVR model turned out to be better than that of the Linear Regression model. However, the opposite was true for the MSE score, as the Linear Regression model had a better MSE than the SVR model."
   ]
  },
  {
   "cell_type": "markdown",
   "metadata": {
    "id": "m9uOLrwenP1S"
   },
   "source": [
    "### Part 5: Determining the MVP\n",
    "Finally, the MVP will be determined for this season using the model created."
   ]
  },
  {
   "cell_type": "markdown",
   "metadata": {},
   "source": [
    "#### Prepare 2021-22 data to be able to make a prediction"
   ]
  },
  {
   "cell_type": "code",
   "execution_count": 12,
   "metadata": {
    "id": "zFgNLLbUnwQE"
   },
   "outputs": [],
   "source": [
    "final_df_22.set_index(\"Player\",inplace=True)\n",
    "final_df_22.drop([\"Tm\"],axis=1,inplace=True)\n",
    "final_df_22.dropna(inplace=True)\n",
    "final_df_22_LR = final_df_22.copy()\n",
    "final_df_22_SVR = final_df_22.copy()"
   ]
  },
  {
   "cell_type": "markdown",
   "metadata": {},
   "source": [
    "#### Making The Predictions"
   ]
  },
  {
   "cell_type": "code",
   "execution_count": 13,
   "metadata": {},
   "outputs": [],
   "source": [
    "#Predict using both models\n",
    "final_df_22_LR[\"Share\"] = lr.predict(final_df_22)\n",
    "final_df_22_SVR[\"Share\"] = svr.predict(final_df_22)"
   ]
  },
  {
   "cell_type": "markdown",
   "metadata": {},
   "source": [
    "#### Linear Regression Predictions"
   ]
  },
  {
   "cell_type": "code",
   "execution_count": 14,
   "metadata": {},
   "outputs": [
    {
     "data": {
      "text/html": [
       "<div>\n",
       "<style scoped>\n",
       "    .dataframe tbody tr th:only-of-type {\n",
       "        vertical-align: middle;\n",
       "    }\n",
       "\n",
       "    .dataframe tbody tr th {\n",
       "        vertical-align: top;\n",
       "    }\n",
       "\n",
       "    .dataframe thead th {\n",
       "        text-align: right;\n",
       "    }\n",
       "</style>\n",
       "<table border=\"1\" class=\"dataframe\">\n",
       "  <thead>\n",
       "    <tr style=\"text-align: right;\">\n",
       "      <th></th>\n",
       "      <th>Player</th>\n",
       "      <th>PER</th>\n",
       "      <th>TS%</th>\n",
       "      <th>USG%</th>\n",
       "      <th>WS</th>\n",
       "      <th>OBPM</th>\n",
       "      <th>DBPM</th>\n",
       "      <th>VORP</th>\n",
       "      <th>FG%</th>\n",
       "      <th>TRB</th>\n",
       "      <th>AST</th>\n",
       "      <th>STL</th>\n",
       "      <th>BLK</th>\n",
       "      <th>TOV</th>\n",
       "      <th>PTS</th>\n",
       "      <th>W/L%</th>\n",
       "      <th>Share</th>\n",
       "    </tr>\n",
       "  </thead>\n",
       "  <tbody>\n",
       "    <tr>\n",
       "      <th>0</th>\n",
       "      <td>Nikola Jokić</td>\n",
       "      <td>32.8</td>\n",
       "      <td>0.661</td>\n",
       "      <td>31.9</td>\n",
       "      <td>15.2</td>\n",
       "      <td>9.2</td>\n",
       "      <td>4.5</td>\n",
       "      <td>9.8</td>\n",
       "      <td>0.583</td>\n",
       "      <td>13.8</td>\n",
       "      <td>7.9</td>\n",
       "      <td>1.5</td>\n",
       "      <td>0.9</td>\n",
       "      <td>3.8</td>\n",
       "      <td>27.1</td>\n",
       "      <td>0.585</td>\n",
       "      <td>0.224838</td>\n",
       "    </tr>\n",
       "    <tr>\n",
       "      <th>1</th>\n",
       "      <td>Giannis Antetokounmpo</td>\n",
       "      <td>32.1</td>\n",
       "      <td>0.633</td>\n",
       "      <td>34.9</td>\n",
       "      <td>12.9</td>\n",
       "      <td>7.6</td>\n",
       "      <td>3.5</td>\n",
       "      <td>7.4</td>\n",
       "      <td>0.553</td>\n",
       "      <td>11.6</td>\n",
       "      <td>5.8</td>\n",
       "      <td>1.1</td>\n",
       "      <td>1.4</td>\n",
       "      <td>3.3</td>\n",
       "      <td>29.9</td>\n",
       "      <td>0.622</td>\n",
       "      <td>0.186720</td>\n",
       "    </tr>\n",
       "    <tr>\n",
       "      <th>2</th>\n",
       "      <td>Joel Embiid</td>\n",
       "      <td>31.2</td>\n",
       "      <td>0.616</td>\n",
       "      <td>37.2</td>\n",
       "      <td>12.0</td>\n",
       "      <td>7.2</td>\n",
       "      <td>2.0</td>\n",
       "      <td>6.5</td>\n",
       "      <td>0.499</td>\n",
       "      <td>11.7</td>\n",
       "      <td>4.2</td>\n",
       "      <td>1.1</td>\n",
       "      <td>1.5</td>\n",
       "      <td>3.1</td>\n",
       "      <td>30.6</td>\n",
       "      <td>0.622</td>\n",
       "      <td>0.133764</td>\n",
       "    </tr>\n",
       "    <tr>\n",
       "      <th>3</th>\n",
       "      <td>Luka Dončić</td>\n",
       "      <td>25.1</td>\n",
       "      <td>0.571</td>\n",
       "      <td>37.4</td>\n",
       "      <td>7.6</td>\n",
       "      <td>6.4</td>\n",
       "      <td>1.8</td>\n",
       "      <td>5.9</td>\n",
       "      <td>0.457</td>\n",
       "      <td>9.1</td>\n",
       "      <td>8.7</td>\n",
       "      <td>1.2</td>\n",
       "      <td>0.6</td>\n",
       "      <td>4.5</td>\n",
       "      <td>28.4</td>\n",
       "      <td>0.634</td>\n",
       "      <td>0.111913</td>\n",
       "    </tr>\n",
       "    <tr>\n",
       "      <th>4</th>\n",
       "      <td>Ja Morant</td>\n",
       "      <td>24.4</td>\n",
       "      <td>0.575</td>\n",
       "      <td>33.7</td>\n",
       "      <td>6.7</td>\n",
       "      <td>6.2</td>\n",
       "      <td>-0.1</td>\n",
       "      <td>3.9</td>\n",
       "      <td>0.493</td>\n",
       "      <td>5.7</td>\n",
       "      <td>6.7</td>\n",
       "      <td>1.2</td>\n",
       "      <td>0.4</td>\n",
       "      <td>3.4</td>\n",
       "      <td>27.4</td>\n",
       "      <td>0.683</td>\n",
       "      <td>0.074730</td>\n",
       "    </tr>\n",
       "    <tr>\n",
       "      <th>5</th>\n",
       "      <td>Kevin Durant</td>\n",
       "      <td>25.6</td>\n",
       "      <td>0.634</td>\n",
       "      <td>31.2</td>\n",
       "      <td>8.4</td>\n",
       "      <td>6.4</td>\n",
       "      <td>0.7</td>\n",
       "      <td>4.8</td>\n",
       "      <td>0.518</td>\n",
       "      <td>7.4</td>\n",
       "      <td>6.4</td>\n",
       "      <td>0.9</td>\n",
       "      <td>0.9</td>\n",
       "      <td>3.5</td>\n",
       "      <td>29.9</td>\n",
       "      <td>0.537</td>\n",
       "      <td>0.055429</td>\n",
       "    </tr>\n",
       "    <tr>\n",
       "      <th>6</th>\n",
       "      <td>Devin Booker</td>\n",
       "      <td>21.3</td>\n",
       "      <td>0.576</td>\n",
       "      <td>32.0</td>\n",
       "      <td>7.6</td>\n",
       "      <td>3.9</td>\n",
       "      <td>0.2</td>\n",
       "      <td>3.6</td>\n",
       "      <td>0.466</td>\n",
       "      <td>5.0</td>\n",
       "      <td>4.8</td>\n",
       "      <td>1.1</td>\n",
       "      <td>0.4</td>\n",
       "      <td>2.4</td>\n",
       "      <td>26.8</td>\n",
       "      <td>0.780</td>\n",
       "      <td>0.043448</td>\n",
       "    </tr>\n",
       "    <tr>\n",
       "      <th>7</th>\n",
       "      <td>Jayson Tatum</td>\n",
       "      <td>21.8</td>\n",
       "      <td>0.578</td>\n",
       "      <td>32.1</td>\n",
       "      <td>9.6</td>\n",
       "      <td>4.3</td>\n",
       "      <td>0.6</td>\n",
       "      <td>4.8</td>\n",
       "      <td>0.453</td>\n",
       "      <td>8.0</td>\n",
       "      <td>4.4</td>\n",
       "      <td>1.0</td>\n",
       "      <td>0.6</td>\n",
       "      <td>2.9</td>\n",
       "      <td>26.9</td>\n",
       "      <td>0.622</td>\n",
       "      <td>0.041676</td>\n",
       "    </tr>\n",
       "    <tr>\n",
       "      <th>8</th>\n",
       "      <td>Trae Young</td>\n",
       "      <td>25.4</td>\n",
       "      <td>0.603</td>\n",
       "      <td>34.4</td>\n",
       "      <td>10.0</td>\n",
       "      <td>7.1</td>\n",
       "      <td>-2.0</td>\n",
       "      <td>4.8</td>\n",
       "      <td>0.460</td>\n",
       "      <td>3.7</td>\n",
       "      <td>9.7</td>\n",
       "      <td>0.9</td>\n",
       "      <td>0.1</td>\n",
       "      <td>4.0</td>\n",
       "      <td>28.4</td>\n",
       "      <td>0.524</td>\n",
       "      <td>0.039177</td>\n",
       "    </tr>\n",
       "    <tr>\n",
       "      <th>9</th>\n",
       "      <td>Chris Paul</td>\n",
       "      <td>20.8</td>\n",
       "      <td>0.581</td>\n",
       "      <td>19.7</td>\n",
       "      <td>9.4</td>\n",
       "      <td>3.1</td>\n",
       "      <td>2.3</td>\n",
       "      <td>4.0</td>\n",
       "      <td>0.493</td>\n",
       "      <td>4.4</td>\n",
       "      <td>10.8</td>\n",
       "      <td>1.9</td>\n",
       "      <td>0.3</td>\n",
       "      <td>2.4</td>\n",
       "      <td>14.7</td>\n",
       "      <td>0.780</td>\n",
       "      <td>0.034325</td>\n",
       "    </tr>\n",
       "  </tbody>\n",
       "</table>\n",
       "</div>"
      ],
      "text/plain": [
       "                  Player   PER    TS%  USG%    WS  OBPM  DBPM  VORP    FG%  \\\n",
       "0           Nikola Jokić  32.8  0.661  31.9  15.2   9.2   4.5   9.8  0.583   \n",
       "1  Giannis Antetokounmpo  32.1  0.633  34.9  12.9   7.6   3.5   7.4  0.553   \n",
       "2            Joel Embiid  31.2  0.616  37.2  12.0   7.2   2.0   6.5  0.499   \n",
       "3            Luka Dončić  25.1  0.571  37.4   7.6   6.4   1.8   5.9  0.457   \n",
       "4              Ja Morant  24.4  0.575  33.7   6.7   6.2  -0.1   3.9  0.493   \n",
       "5           Kevin Durant  25.6  0.634  31.2   8.4   6.4   0.7   4.8  0.518   \n",
       "6           Devin Booker  21.3  0.576  32.0   7.6   3.9   0.2   3.6  0.466   \n",
       "7           Jayson Tatum  21.8  0.578  32.1   9.6   4.3   0.6   4.8  0.453   \n",
       "8             Trae Young  25.4  0.603  34.4  10.0   7.1  -2.0   4.8  0.460   \n",
       "9             Chris Paul  20.8  0.581  19.7   9.4   3.1   2.3   4.0  0.493   \n",
       "\n",
       "    TRB   AST  STL  BLK  TOV   PTS   W/L%     Share  \n",
       "0  13.8   7.9  1.5  0.9  3.8  27.1  0.585  0.224838  \n",
       "1  11.6   5.8  1.1  1.4  3.3  29.9  0.622  0.186720  \n",
       "2  11.7   4.2  1.1  1.5  3.1  30.6  0.622  0.133764  \n",
       "3   9.1   8.7  1.2  0.6  4.5  28.4  0.634  0.111913  \n",
       "4   5.7   6.7  1.2  0.4  3.4  27.4  0.683  0.074730  \n",
       "5   7.4   6.4  0.9  0.9  3.5  29.9  0.537  0.055429  \n",
       "6   5.0   4.8  1.1  0.4  2.4  26.8  0.780  0.043448  \n",
       "7   8.0   4.4  1.0  0.6  2.9  26.9  0.622  0.041676  \n",
       "8   3.7   9.7  0.9  0.1  4.0  28.4  0.524  0.039177  \n",
       "9   4.4  10.8  1.9  0.3  2.4  14.7  0.780  0.034325  "
      ]
     },
     "execution_count": 14,
     "metadata": {},
     "output_type": "execute_result"
    }
   ],
   "source": [
    "#Create final list of voting shares for 2021-22 season using LinReg prediction\n",
    "final_df_22_LR.sort_values(by=\"Share\",ascending=False,inplace=True)\n",
    "final_df_22_LR.to_csv(\"21-22_Test_Results_LinReg.csv\", encoding = \"ISO-8859-1\")\n",
    "final_df_22_LR = pd.read_csv(\"21-22_Test_Results_LinReg.csv\")\n",
    "final_df_22_LR.head(10)"
   ]
  },
  {
   "cell_type": "markdown",
   "metadata": {},
   "source": [
    "#### Support Vector Regression Prediction"
   ]
  },
  {
   "cell_type": "code",
   "execution_count": 15,
   "metadata": {},
   "outputs": [
    {
     "data": {
      "text/html": [
       "<div>\n",
       "<style scoped>\n",
       "    .dataframe tbody tr th:only-of-type {\n",
       "        vertical-align: middle;\n",
       "    }\n",
       "\n",
       "    .dataframe tbody tr th {\n",
       "        vertical-align: top;\n",
       "    }\n",
       "\n",
       "    .dataframe thead th {\n",
       "        text-align: right;\n",
       "    }\n",
       "</style>\n",
       "<table border=\"1\" class=\"dataframe\">\n",
       "  <thead>\n",
       "    <tr style=\"text-align: right;\">\n",
       "      <th></th>\n",
       "      <th>Player</th>\n",
       "      <th>PER</th>\n",
       "      <th>TS%</th>\n",
       "      <th>USG%</th>\n",
       "      <th>WS</th>\n",
       "      <th>OBPM</th>\n",
       "      <th>DBPM</th>\n",
       "      <th>VORP</th>\n",
       "      <th>FG%</th>\n",
       "      <th>TRB</th>\n",
       "      <th>AST</th>\n",
       "      <th>STL</th>\n",
       "      <th>BLK</th>\n",
       "      <th>TOV</th>\n",
       "      <th>PTS</th>\n",
       "      <th>W/L%</th>\n",
       "      <th>Share</th>\n",
       "    </tr>\n",
       "  </thead>\n",
       "  <tbody>\n",
       "    <tr>\n",
       "      <th>0</th>\n",
       "      <td>Nikola Jokić</td>\n",
       "      <td>32.8</td>\n",
       "      <td>0.661</td>\n",
       "      <td>31.9</td>\n",
       "      <td>15.2</td>\n",
       "      <td>9.2</td>\n",
       "      <td>4.5</td>\n",
       "      <td>9.8</td>\n",
       "      <td>0.583</td>\n",
       "      <td>13.8</td>\n",
       "      <td>7.9</td>\n",
       "      <td>1.5</td>\n",
       "      <td>0.9</td>\n",
       "      <td>3.8</td>\n",
       "      <td>27.1</td>\n",
       "      <td>0.585</td>\n",
       "      <td>0.421867</td>\n",
       "    </tr>\n",
       "    <tr>\n",
       "      <th>1</th>\n",
       "      <td>Giannis Antetokounmpo</td>\n",
       "      <td>32.1</td>\n",
       "      <td>0.633</td>\n",
       "      <td>34.9</td>\n",
       "      <td>12.9</td>\n",
       "      <td>7.6</td>\n",
       "      <td>3.5</td>\n",
       "      <td>7.4</td>\n",
       "      <td>0.553</td>\n",
       "      <td>11.6</td>\n",
       "      <td>5.8</td>\n",
       "      <td>1.1</td>\n",
       "      <td>1.4</td>\n",
       "      <td>3.3</td>\n",
       "      <td>29.9</td>\n",
       "      <td>0.622</td>\n",
       "      <td>0.319850</td>\n",
       "    </tr>\n",
       "    <tr>\n",
       "      <th>2</th>\n",
       "      <td>Joel Embiid</td>\n",
       "      <td>31.2</td>\n",
       "      <td>0.616</td>\n",
       "      <td>37.2</td>\n",
       "      <td>12.0</td>\n",
       "      <td>7.2</td>\n",
       "      <td>2.0</td>\n",
       "      <td>6.5</td>\n",
       "      <td>0.499</td>\n",
       "      <td>11.7</td>\n",
       "      <td>4.2</td>\n",
       "      <td>1.1</td>\n",
       "      <td>1.5</td>\n",
       "      <td>3.1</td>\n",
       "      <td>30.6</td>\n",
       "      <td>0.622</td>\n",
       "      <td>0.268774</td>\n",
       "    </tr>\n",
       "    <tr>\n",
       "      <th>3</th>\n",
       "      <td>Domantas Sabonis</td>\n",
       "      <td>21.9</td>\n",
       "      <td>0.637</td>\n",
       "      <td>22.3</td>\n",
       "      <td>7.1</td>\n",
       "      <td>3.2</td>\n",
       "      <td>0.9</td>\n",
       "      <td>3.2</td>\n",
       "      <td>0.573</td>\n",
       "      <td>12.1</td>\n",
       "      <td>5.2</td>\n",
       "      <td>1.0</td>\n",
       "      <td>0.4</td>\n",
       "      <td>3.1</td>\n",
       "      <td>18.9</td>\n",
       "      <td>0.625</td>\n",
       "      <td>0.226594</td>\n",
       "    </tr>\n",
       "    <tr>\n",
       "      <th>4</th>\n",
       "      <td>Jalen Suggs</td>\n",
       "      <td>8.6</td>\n",
       "      <td>0.455</td>\n",
       "      <td>25.3</td>\n",
       "      <td>-1.6</td>\n",
       "      <td>-5.3</td>\n",
       "      <td>-0.2</td>\n",
       "      <td>-1.2</td>\n",
       "      <td>0.361</td>\n",
       "      <td>3.6</td>\n",
       "      <td>4.4</td>\n",
       "      <td>1.2</td>\n",
       "      <td>0.4</td>\n",
       "      <td>3.0</td>\n",
       "      <td>11.8</td>\n",
       "      <td>0.268</td>\n",
       "      <td>0.199436</td>\n",
       "    </tr>\n",
       "    <tr>\n",
       "      <th>5</th>\n",
       "      <td>Chris Paul</td>\n",
       "      <td>20.8</td>\n",
       "      <td>0.581</td>\n",
       "      <td>19.7</td>\n",
       "      <td>9.4</td>\n",
       "      <td>3.1</td>\n",
       "      <td>2.3</td>\n",
       "      <td>4.0</td>\n",
       "      <td>0.493</td>\n",
       "      <td>4.4</td>\n",
       "      <td>10.8</td>\n",
       "      <td>1.9</td>\n",
       "      <td>0.3</td>\n",
       "      <td>2.4</td>\n",
       "      <td>14.7</td>\n",
       "      <td>0.780</td>\n",
       "      <td>0.198798</td>\n",
       "    </tr>\n",
       "    <tr>\n",
       "      <th>6</th>\n",
       "      <td>Reggie Jackson</td>\n",
       "      <td>12.1</td>\n",
       "      <td>0.488</td>\n",
       "      <td>27.6</td>\n",
       "      <td>0.4</td>\n",
       "      <td>-1.4</td>\n",
       "      <td>-1.6</td>\n",
       "      <td>-0.6</td>\n",
       "      <td>0.392</td>\n",
       "      <td>3.6</td>\n",
       "      <td>4.8</td>\n",
       "      <td>0.7</td>\n",
       "      <td>0.2</td>\n",
       "      <td>2.3</td>\n",
       "      <td>16.8</td>\n",
       "      <td>0.512</td>\n",
       "      <td>0.155375</td>\n",
       "    </tr>\n",
       "    <tr>\n",
       "      <th>7</th>\n",
       "      <td>Deandre Ayton</td>\n",
       "      <td>21.9</td>\n",
       "      <td>0.656</td>\n",
       "      <td>21.4</td>\n",
       "      <td>7.3</td>\n",
       "      <td>2.2</td>\n",
       "      <td>0.6</td>\n",
       "      <td>2.1</td>\n",
       "      <td>0.634</td>\n",
       "      <td>10.2</td>\n",
       "      <td>1.4</td>\n",
       "      <td>0.7</td>\n",
       "      <td>0.7</td>\n",
       "      <td>1.6</td>\n",
       "      <td>17.2</td>\n",
       "      <td>0.780</td>\n",
       "      <td>0.148294</td>\n",
       "    </tr>\n",
       "    <tr>\n",
       "      <th>8</th>\n",
       "      <td>Robert Williams</td>\n",
       "      <td>22.1</td>\n",
       "      <td>0.745</td>\n",
       "      <td>11.5</td>\n",
       "      <td>9.9</td>\n",
       "      <td>2.4</td>\n",
       "      <td>3.1</td>\n",
       "      <td>3.4</td>\n",
       "      <td>0.736</td>\n",
       "      <td>9.6</td>\n",
       "      <td>2.0</td>\n",
       "      <td>0.9</td>\n",
       "      <td>2.2</td>\n",
       "      <td>1.0</td>\n",
       "      <td>10.0</td>\n",
       "      <td>0.622</td>\n",
       "      <td>0.144882</td>\n",
       "    </tr>\n",
       "    <tr>\n",
       "      <th>9</th>\n",
       "      <td>Devin Booker</td>\n",
       "      <td>21.3</td>\n",
       "      <td>0.576</td>\n",
       "      <td>32.0</td>\n",
       "      <td>7.6</td>\n",
       "      <td>3.9</td>\n",
       "      <td>0.2</td>\n",
       "      <td>3.6</td>\n",
       "      <td>0.466</td>\n",
       "      <td>5.0</td>\n",
       "      <td>4.8</td>\n",
       "      <td>1.1</td>\n",
       "      <td>0.4</td>\n",
       "      <td>2.4</td>\n",
       "      <td>26.8</td>\n",
       "      <td>0.780</td>\n",
       "      <td>0.119289</td>\n",
       "    </tr>\n",
       "  </tbody>\n",
       "</table>\n",
       "</div>"
      ],
      "text/plain": [
       "                  Player   PER    TS%  USG%    WS  OBPM  DBPM  VORP    FG%  \\\n",
       "0           Nikola Jokić  32.8  0.661  31.9  15.2   9.2   4.5   9.8  0.583   \n",
       "1  Giannis Antetokounmpo  32.1  0.633  34.9  12.9   7.6   3.5   7.4  0.553   \n",
       "2            Joel Embiid  31.2  0.616  37.2  12.0   7.2   2.0   6.5  0.499   \n",
       "3       Domantas Sabonis  21.9  0.637  22.3   7.1   3.2   0.9   3.2  0.573   \n",
       "4            Jalen Suggs   8.6  0.455  25.3  -1.6  -5.3  -0.2  -1.2  0.361   \n",
       "5             Chris Paul  20.8  0.581  19.7   9.4   3.1   2.3   4.0  0.493   \n",
       "6         Reggie Jackson  12.1  0.488  27.6   0.4  -1.4  -1.6  -0.6  0.392   \n",
       "7          Deandre Ayton  21.9  0.656  21.4   7.3   2.2   0.6   2.1  0.634   \n",
       "8        Robert Williams  22.1  0.745  11.5   9.9   2.4   3.1   3.4  0.736   \n",
       "9           Devin Booker  21.3  0.576  32.0   7.6   3.9   0.2   3.6  0.466   \n",
       "\n",
       "    TRB   AST  STL  BLK  TOV   PTS   W/L%     Share  \n",
       "0  13.8   7.9  1.5  0.9  3.8  27.1  0.585  0.421867  \n",
       "1  11.6   5.8  1.1  1.4  3.3  29.9  0.622  0.319850  \n",
       "2  11.7   4.2  1.1  1.5  3.1  30.6  0.622  0.268774  \n",
       "3  12.1   5.2  1.0  0.4  3.1  18.9  0.625  0.226594  \n",
       "4   3.6   4.4  1.2  0.4  3.0  11.8  0.268  0.199436  \n",
       "5   4.4  10.8  1.9  0.3  2.4  14.7  0.780  0.198798  \n",
       "6   3.6   4.8  0.7  0.2  2.3  16.8  0.512  0.155375  \n",
       "7  10.2   1.4  0.7  0.7  1.6  17.2  0.780  0.148294  \n",
       "8   9.6   2.0  0.9  2.2  1.0  10.0  0.622  0.144882  \n",
       "9   5.0   4.8  1.1  0.4  2.4  26.8  0.780  0.119289  "
      ]
     },
     "execution_count": 15,
     "metadata": {},
     "output_type": "execute_result"
    }
   ],
   "source": [
    "#Create final list of voting shares for 2021-22 season using SVR prediction\n",
    "final_df_22_SVR.sort_values(by=\"Share\",ascending=False,inplace=True)\n",
    "final_df_22_SVR.to_csv(\"21-22_Test_Results_SVR.csv\", encoding = \"ISO-8859-1\")\n",
    "final_df_22_SVR = pd.read_csv(\"21-22_Test_Results_SVR.csv\")\n",
    "final_df_22_SVR.head(10)"
   ]
  },
  {
   "cell_type": "markdown",
   "metadata": {},
   "source": [
    "#### Visualizing Linear Regression Prediction"
   ]
  },
  {
   "cell_type": "code",
   "execution_count": 16,
   "metadata": {},
   "outputs": [
    {
     "data": {
      "image/png": "[encoded data removed]",
      "text/plain": [
       "<Figure size 432x288 with 1 Axes>"
      ]
     },
     "metadata": {
      "needs_background": "light"
     },
     "output_type": "display_data"
    }
   ],
   "source": [
    "plt.scatter(\"Player\",\"Share\",data=final_df_22_LR.head(10))\n",
    "plt.xlabel(\"Player\")\n",
    "plt.ylabel(\"Predicted MVP Share\")\n",
    "plt.title(\"Predicted NBA MVP Leaderboard for the 2021-22 Season using LinReg\")\n",
    "plt.xticks(rotation=75)\n",
    "plt.show()"
   ]
  },
  {
   "cell_type": "markdown",
   "metadata": {},
   "source": [
    "#### Visualizing Support Vector Regression Prediction"
   ]
  },
  {
   "cell_type": "code",
   "execution_count": 17,
   "metadata": {},
   "outputs": [
    {
     "data": {
      "image/png": "[encoded data removed]",
      "text/plain": [
       "<Figure size 432x288 with 1 Axes>"
      ]
     },
     "metadata": {
      "needs_background": "light"
     },
     "output_type": "display_data"
    }
   ],
   "source": [
    "plt.scatter(\"Player\",\"Share\",data=final_df_22_SVR.head(10))\n",
    "plt.xlabel(\"Player\")\n",
    "plt.ylabel(\"Predicted MVP Share\")\n",
    "plt.title(\"Predicted NBA MVP Leaderboard for the 2021-22 Season using SVR\")\n",
    "plt.xticks(rotation=75)\n",
    "plt.show()"
   ]
  },
  {
   "cell_type": "markdown",
   "metadata": {},
   "source": [
    "### Conclusion\n",
    "After cleaning our data, doing some EDA, and creating and evaluating our models, we finally see what results the models give us. Both models give us the same Top 3 (Jokić, Antetokounmpo, and Embiid), which is accurate as it matches the finalists for this year. However, we believe the Linear Regression model did a much better job at predicting the rest of the Top 10, featuring many of this year’s top players. The SVR model did well, but did include some surprises, including big man Domantas Sabonis, who is unlikely to even make an All-NBA team this year, and inefficient rookie Jalen Suggs. A notable absence on both charts was Stephen Curry, who we think will receive several MVP votes and project as a Top-5 finisher. Overall, the predicted MVP winner is Nikola Jokić."
   ]
  }
 ],
 "metadata": {
  "colab": {
   "collapsed_sections": [
    "agq-Uw6nkW9Q",
    "MRuoTBsBkW9V",
    "hLkqUJzKmq3p",
    "VCePoo6bnw2B",
    "m9uOLrwenP1S"
   ],
   "name": "solution.ipynb",
   "provenance": []
  },
  "kernelspec": {
   "display_name": "introds",
   "language": "python",
   "name": "introds"
  },
  "language_info": {
   "codemirror_mode": {
    "name": "ipython",
    "version": 3
   },
   "file_extension": ".py",
   "mimetype": "text/x-python",
   "name": "python",
   "nbconvert_exporter": "python",
   "pygments_lexer": "ipython3",
   "version": "3.9.7"
  }
 },
 "nbformat": 4,
 "nbformat_minor": 1
}
